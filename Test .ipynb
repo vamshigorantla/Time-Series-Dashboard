{
  "nbformat": 4,
  "nbformat_minor": 0,
  "metadata": {
    "colab": {
      "name": "Test.ipynb",
      "provenance": [],
      "collapsed_sections": []
    },
    "kernelspec": {
      "name": "python3",
      "display_name": "Python 3"
    },
    "language_info": {
      "name": "python"
    }
  },
  "cells": [
    {
      "cell_type": "code",
      "source": [
        " !pip install pandas-datareader\n",
        " !pip install pmdarima"
      ],
      "metadata": {
        "id": "36ERT8EKDucd",
        "colab": {
          "base_uri": "https://localhost:8080/"
        },
        "outputId": "52aa945e-918a-420e-9b9d-988243a810be"
      },
      "execution_count": null,
      "outputs": [
        {
          "output_type": "stream",
          "name": "stdout",
          "text": [
            "Requirement already satisfied: pandas-datareader in ./anaconda3/lib/python3.7/site-packages (0.10.0)\n",
            "Requirement already satisfied: requests>=2.19.0 in ./anaconda3/lib/python3.7/site-packages (from pandas-datareader) (2.22.0)\n",
            "Requirement already satisfied: lxml in ./anaconda3/lib/python3.7/site-packages (from pandas-datareader) (4.5.0)\n",
            "Requirement already satisfied: pandas>=0.23 in ./anaconda3/lib/python3.7/site-packages (from pandas-datareader) (1.1.3)\n",
            "Requirement already satisfied: certifi>=2017.4.17 in ./anaconda3/lib/python3.7/site-packages (from requests>=2.19.0->pandas-datareader) (2019.11.28)\n",
            "Requirement already satisfied: chardet<3.1.0,>=3.0.2 in ./anaconda3/lib/python3.7/site-packages (from requests>=2.19.0->pandas-datareader) (3.0.4)\n",
            "Requirement already satisfied: urllib3!=1.25.0,!=1.25.1,<1.26,>=1.21.1 in ./anaconda3/lib/python3.7/site-packages (from requests>=2.19.0->pandas-datareader) (1.25.8)\n",
            "Requirement already satisfied: idna<2.9,>=2.5 in ./anaconda3/lib/python3.7/site-packages (from requests>=2.19.0->pandas-datareader) (2.8)\n",
            "Requirement already satisfied: numpy>=1.15.4 in ./anaconda3/lib/python3.7/site-packages (from pandas>=0.23->pandas-datareader) (1.21.5)\n",
            "Requirement already satisfied: pytz>=2017.2 in ./anaconda3/lib/python3.7/site-packages (from pandas>=0.23->pandas-datareader) (2019.3)\n",
            "Requirement already satisfied: python-dateutil>=2.7.3 in ./anaconda3/lib/python3.7/site-packages (from pandas>=0.23->pandas-datareader) (2.8.1)\n",
            "Requirement already satisfied: six>=1.5 in ./anaconda3/lib/python3.7/site-packages (from python-dateutil>=2.7.3->pandas>=0.23->pandas-datareader) (1.14.0)\n",
            "Requirement already satisfied: pmdarima in ./anaconda3/lib/python3.7/site-packages (1.8.5)\n",
            "Requirement already satisfied: statsmodels!=0.12.0,>=0.11 in ./anaconda3/lib/python3.7/site-packages (from pmdarima) (0.11.0)\n",
            "Requirement already satisfied: urllib3 in ./anaconda3/lib/python3.7/site-packages (from pmdarima) (1.25.8)\n",
            "Requirement already satisfied: scipy>=1.3.2 in ./anaconda3/lib/python3.7/site-packages (from pmdarima) (1.4.1)\n",
            "Requirement already satisfied: setuptools!=50.0.0,>=38.6.0 in ./anaconda3/lib/python3.7/site-packages (from pmdarima) (45.2.0.post20200210)\n",
            "Requirement already satisfied: pandas>=0.19 in ./anaconda3/lib/python3.7/site-packages (from pmdarima) (1.1.3)\n",
            "Requirement already satisfied: scikit-learn>=0.22 in ./anaconda3/lib/python3.7/site-packages (from pmdarima) (0.22.1)\n",
            "Requirement already satisfied: joblib>=0.11 in ./anaconda3/lib/python3.7/site-packages (from pmdarima) (0.14.1)\n",
            "Requirement already satisfied: Cython!=0.29.18,>=0.29 in ./anaconda3/lib/python3.7/site-packages (from pmdarima) (0.29.15)\n",
            "Requirement already satisfied: numpy>=1.19.3 in ./anaconda3/lib/python3.7/site-packages (from pmdarima) (1.21.5)\n",
            "Requirement already satisfied: patsy>=0.5 in ./anaconda3/lib/python3.7/site-packages (from statsmodels!=0.12.0,>=0.11->pmdarima) (0.5.1)\n",
            "Requirement already satisfied: pytz>=2017.2 in ./anaconda3/lib/python3.7/site-packages (from pandas>=0.19->pmdarima) (2019.3)\n",
            "Requirement already satisfied: python-dateutil>=2.7.3 in ./anaconda3/lib/python3.7/site-packages (from pandas>=0.19->pmdarima) (2.8.1)\n",
            "Requirement already satisfied: six in ./anaconda3/lib/python3.7/site-packages (from patsy>=0.5->statsmodels!=0.12.0,>=0.11->pmdarima) (1.14.0)\n"
          ]
        }
      ]
    },
    {
      "cell_type": "code",
      "execution_count": null,
      "metadata": {
        "id": "gqZQLmPaV9gD",
        "colab": {
          "base_uri": "https://localhost:8080/"
        },
        "outputId": "5609dcdf-be5f-435d-8cc6-28549b777506"
      },
      "outputs": [
        {
          "output_type": "stream",
          "name": "stderr",
          "text": [
            "/home/vamshi/anaconda3/lib/python3.7/site-packages/statsmodels/tsa/base/tsa_model.py:162: ValueWarning: No frequency information was provided, so inferred frequency MS will be used.\n",
            "  % freq, ValueWarning)\n",
            "/home/vamshi/anaconda3/lib/python3.7/site-packages/statsmodels/tsa/base/tsa_model.py:162: ValueWarning: No frequency information was provided, so inferred frequency MS will be used.\n",
            "  % freq, ValueWarning)\n",
            "/home/vamshi/anaconda3/lib/python3.7/site-packages/statsmodels/tsa/base/tsa_model.py:162: ValueWarning: No frequency information was provided, so inferred frequency MS will be used.\n",
            "  % freq, ValueWarning)\n"
          ]
        },
        {
          "output_type": "stream",
          "name": "stdout",
          "text": [
            "Coefficient of Determination for ARIMA Model 0.6406758268428863\n",
            "Coefficient of Determination for AUTO ARIMA Model -0.001953593860240632\n"
          ]
        },
        {
          "output_type": "stream",
          "name": "stderr",
          "text": [
            "/home/vamshi/anaconda3/lib/python3.7/site-packages/statsmodels/tsa/base/tsa_model.py:162: ValueWarning: No frequency information was provided, so inferred frequency MS will be used.\n",
            "  % freq, ValueWarning)\n",
            "/home/vamshi/anaconda3/lib/python3.7/site-packages/statsmodels/tsa/base/tsa_model.py:162: ValueWarning: No frequency information was provided, so inferred frequency MS will be used.\n",
            "  % freq, ValueWarning)\n"
          ]
        },
        {
          "output_type": "stream",
          "name": "stdout",
          "text": [
            "Coefficient of Determination for SARIMA Model 0.6838472309631527\n"
          ]
        }
      ],
      "source": [
        "import warnings\n",
        "warnings.filterwarnings(\"ignore\")\n",
        "import pandas_datareader as pdr\n",
        "import pandas as pd\n",
        "import numpy as np\n",
        "import math\n",
        "from datetime import datetime\n",
        "import matplotlib.pyplot as plt\n",
        "from scipy import stats\n",
        "from statsmodels.tsa.stattools import adfuller\n",
        "from statsmodels.tsa.arima_model import ARIMA\n",
        "import statsmodels.api as sm\n",
        "from pmdarima import auto_arima\n",
        "from statsmodels.tsa.statespace.sarimax import SARIMAX\n",
        "#from numpy import sqrt \n",
        "from sklearn.metrics import mean_squared_error\n",
        "#from math import sqrt\n",
        "from pandas import to_datetime\n",
        "from prophet import Prophet\n",
        "from matplotlib import pyplot\n",
        "from pandas import DataFrame\n",
        "from sklearn.model_selection import train_test_split\n",
        "#from matplotlib import pyplot\n",
        "\n",
        "\n",
        "def parser(s):\n",
        "    return datetime.strptime(s, '%Y-%m-%d')\n",
        "\n",
        "df = pd.read_csv('LLOYDS_Monthly.csv', parse_dates=[0], index_col=0, squeeze=True, date_parser=parser)\n",
        "\n",
        "df.drop(df.columns.difference(['Date','Close']), 1, inplace=True)\n",
        "df.dropna(inplace = True)\n",
        "\n",
        "\n",
        "#Train Test Split\n",
        "\n",
        "train_size = 0.8\n",
        "split_idx = round(len(df)* train_size)\n",
        "\n",
        "train = df.iloc[:split_idx]\n",
        "test = df.iloc[split_idx:]\n",
        "\n",
        "pred_start_date = test.index[0]\n",
        "#print(pred_start_date)\n",
        "pred_end_date = test.index[-1]\n",
        "#print(pred_end_date)\n",
        "\n",
        "#ARIMA\n",
        "df = df.iloc[1: , :]\n",
        "model = sm.tsa.arima.ARIMA(train,order=(1,0,1))\n",
        "model_fit = model.fit()\n",
        "modelvalues = model_fit.predict(start=1, end=len(df))\n",
        "df['Predicted_ARIMA'] = modelvalues.values\n",
        "predicted_arima = df['Predicted_ARIMA']\n",
        "str_msg = \"\"\n",
        "str_msg = str_msg + model_fit.summary().as_text() \n",
        "# #df[['Close','Predicted_ARIMA']].plot(figsize=(12,8), title = 'ARIMA')\n",
        "# #print(df)\n",
        "\n",
        "from sklearn.metrics import r2_score \n",
        "a =df['Close'] \n",
        "b =df['Predicted_ARIMA']\n",
        "R_square = r2_score(a, b) \n",
        "print('Coefficient of Determination for ARIMA Model', R_square) \n",
        "\n",
        "#Auto ARIMA\n",
        "\n",
        "#df.drop(df.columns.difference(['Close']), 1, inplace=True)\n",
        "model = auto_arima(train, start_p=0, start_q=0)\n",
        "forecast = model.predict(n_periods=len(df))\n",
        "forecast = pd.DataFrame(forecast,index = df.index,columns=['Prediction'])\n",
        "df['Prediction'] = forecast.values\n",
        "str_msg1 = \"\"\n",
        "str_msg1 = str_msg1 + model.summary().as_text()\n",
        "\n",
        "from sklearn.metrics import r2_score \n",
        "a =df['Close'] \n",
        "b =df['Prediction']\n",
        "R_square = r2_score(a, b) \n",
        "print('Coefficient of Determination for AUTO ARIMA Model', R_square)\n",
        "\n",
        "#SARIMA\n",
        "\n",
        "model_SARIMA=SARIMAX(train,order=(2,1,0),seasonal_order=(1,1,0,12))\n",
        "model_SARIMA_fit=model_SARIMA.fit()\n",
        "modelvalues1 = model_SARIMA_fit.predict(start=1,end=len(df))\n",
        "df['Predicted_SARIMA']=modelvalues1.values\n",
        "predicted_sarima = df['Predicted_SARIMA']\n",
        "residuals=df['Close']-df['Predicted_SARIMA']\n",
        "str_msg2 = \"\"\n",
        "str_msg2 = str_msg2 + model_SARIMA_fit.summary().as_text()\n",
        "\n",
        "from sklearn.metrics import r2_score \n",
        "a =df['Close'] \n",
        "b =df['Predicted_SARIMA']\n",
        "R_square = r2_score(a, b) \n",
        "print('Coefficient of Determination for SARIMA Model', R_square)\n",
        "\n",
        "#FB PROPHET\n",
        "\n",
        "df1 = pd.read_csv('LLOYDS_Monthly.csv')\n",
        "df1.drop(df1.columns.difference(['Date','Close']), 1, inplace=True)\n",
        "df1.columns = ['ds', 'y']\n",
        "df1['ds']= to_datetime(df1['ds'])\n",
        "\n",
        "train_size = 0.8\n",
        "split_idx = round(len(df1)* train_size)\n",
        "\n",
        "train1 = df1.iloc[:split_idx]\n",
        "test1 = df1.iloc[split_idx:]\n",
        "\n",
        "# define the model\n",
        "model = Prophet(daily_seasonality=True, weekly_seasonality=True)\n",
        "# fit the model\n",
        "model.fit(df1)\n",
        "forecast_3 = model.predict(test1)\n",
        "df_past = pd.DataFrame(forecast_3)\n",
        "# define the period for which we want a prediction\n",
        "future = list()\n",
        "for i in range(3,13):\n",
        "    date = '2022-%02d' % i\n",
        "    future.append([date])\n",
        "future = DataFrame(future)\n",
        "future.columns = ['ds']\n",
        "future['ds']= to_datetime(future['ds'])\n",
        "# use the model to make a forecast\n",
        "forecast_4 = model.predict(future)\n",
        "df_future = pd.DataFrame(forecast_4)\n",
        "# summarize the forecast\n",
        "#print(forecast[['ds', 'yhat', 'yhat_lower', 'yhat_upper']])\n",
        "\n",
        "\n",
        "\n",
        "\n",
        "\n",
        "\n",
        "# #Plot\n",
        "# fig, axs = plt.subplots(2, 2, figsize=(16,7))\n",
        "# axs[0, 0].plot(train, label='Train')\n",
        "# axs[0, 0].plot(test, label='Test')\n",
        "# axs[0, 0].plot(predicted_arima, label='Prediction')\n",
        "# #axs[0,0].fill_between(lower_series.index, lower_series, upper_series, color='k', alpha=.10)\n",
        "# axs[0, 0].legend(loc = 'Best')\n",
        "# axs[0, 0].set_title(\"ARIMA\")\n",
        "# axs[0, 1].plot(train, label='Train')\n",
        "# axs[0, 1].plot(test, label='Test')\n",
        "# axs[0, 1].plot(forecast, label='Prediction')\n",
        "# #axs[0,1].fill_between(lower_series.index, lower_series, upper_series, color='k', alpha=.10)\n",
        "# axs[0, 1].legend(loc = 'Best')\n",
        "# axs[0, 1].set_title(\"AUTO ARIMA\")\n",
        "# axs[1, 0].plot(train, label='Train')\n",
        "# axs[1, 0].plot(test, label='Test')\n",
        "# axs[1, 0].plot(predicted_sarima, label='Prediction')\n",
        "# #axs[1,0].fill_between(lower_series.index, lower_series, upper_series, color='k', alpha=.10)\n",
        "# axs[1, 0].legend(loc = 'Best')\n",
        "# axs[1, 0].set_title(\"SARIMA\")\n",
        "# model.plot(forecast_3)\n",
        "# #model.plot(forecast_4)\n",
        "# plt.show()\n",
        "\n",
        "df.reset_index(inplace=True)\n",
        "#print(df)\n"
      ]
    },
    {
      "cell_type": "code",
      "source": [
        ""
      ],
      "metadata": {
        "id": "tXyGn9tv8okY"
      },
      "execution_count": null,
      "outputs": []
    },
    {
      "cell_type": "code",
      "source": [
        "!pip install dash pandas\n",
        "!pip install dash==2.0.0\n",
        "!pip install -q jupyter_dash==0.3.0\n",
        "!pip install -q dash-cytoscape"
      ],
      "metadata": {
        "id": "JYy1paR52-62",
        "colab": {
          "base_uri": "https://localhost:8080/"
        },
        "outputId": "34f2315c-4f70-4206-a04a-3a295cc2ce46"
      },
      "execution_count": null,
      "outputs": [
        {
          "output_type": "stream",
          "name": "stdout",
          "text": [
            "Requirement already satisfied: dash in ./anaconda3/lib/python3.7/site-packages (2.0.0)\n",
            "Requirement already satisfied: pandas in ./anaconda3/lib/python3.7/site-packages (1.1.3)\n",
            "Requirement already satisfied: dash-table==5.0.0 in ./anaconda3/lib/python3.7/site-packages (from dash) (5.0.0)\n",
            "Requirement already satisfied: plotly>=5.0.0 in ./anaconda3/lib/python3.7/site-packages (from dash) (5.7.0)\n",
            "Requirement already satisfied: flask-compress in ./anaconda3/lib/python3.7/site-packages (from dash) (1.11)\n",
            "Requirement already satisfied: dash-html-components==2.0.0 in ./anaconda3/lib/python3.7/site-packages (from dash) (2.0.0)\n",
            "Requirement already satisfied: Flask>=1.0.4 in ./anaconda3/lib/python3.7/site-packages (from dash) (1.1.1)\n",
            "Requirement already satisfied: dash-core-components==2.0.0 in ./anaconda3/lib/python3.7/site-packages (from dash) (2.0.0)\n",
            "Requirement already satisfied: python-dateutil>=2.7.3 in ./anaconda3/lib/python3.7/site-packages (from pandas) (2.8.1)\n",
            "Requirement already satisfied: pytz>=2017.2 in ./anaconda3/lib/python3.7/site-packages (from pandas) (2019.3)\n",
            "Requirement already satisfied: numpy>=1.15.4 in ./anaconda3/lib/python3.7/site-packages (from pandas) (1.21.5)\n",
            "Requirement already satisfied: six in ./anaconda3/lib/python3.7/site-packages (from plotly>=5.0.0->dash) (1.14.0)\n",
            "Requirement already satisfied: tenacity>=6.2.0 in ./anaconda3/lib/python3.7/site-packages (from plotly>=5.0.0->dash) (8.0.1)\n",
            "Requirement already satisfied: brotli in ./anaconda3/lib/python3.7/site-packages (from flask-compress->dash) (1.0.9)\n",
            "Requirement already satisfied: Jinja2>=2.10.1 in ./anaconda3/lib/python3.7/site-packages (from Flask>=1.0.4->dash) (2.11.1)\n",
            "Requirement already satisfied: Werkzeug>=0.15 in ./anaconda3/lib/python3.7/site-packages (from Flask>=1.0.4->dash) (1.0.0)\n",
            "Requirement already satisfied: click>=5.1 in ./anaconda3/lib/python3.7/site-packages (from Flask>=1.0.4->dash) (7.0)\n",
            "Requirement already satisfied: itsdangerous>=0.24 in ./anaconda3/lib/python3.7/site-packages (from Flask>=1.0.4->dash) (1.1.0)\n",
            "Requirement already satisfied: MarkupSafe>=0.23 in ./anaconda3/lib/python3.7/site-packages (from Jinja2>=2.10.1->Flask>=1.0.4->dash) (1.1.1)\n",
            "Requirement already satisfied: dash==2.0.0 in ./anaconda3/lib/python3.7/site-packages (2.0.0)\n",
            "Requirement already satisfied: dash-core-components==2.0.0 in ./anaconda3/lib/python3.7/site-packages (from dash==2.0.0) (2.0.0)\n",
            "Requirement already satisfied: flask-compress in ./anaconda3/lib/python3.7/site-packages (from dash==2.0.0) (1.11)\n",
            "Requirement already satisfied: Flask>=1.0.4 in ./anaconda3/lib/python3.7/site-packages (from dash==2.0.0) (1.1.1)\n",
            "Requirement already satisfied: plotly>=5.0.0 in ./anaconda3/lib/python3.7/site-packages (from dash==2.0.0) (5.7.0)\n",
            "Requirement already satisfied: dash-html-components==2.0.0 in ./anaconda3/lib/python3.7/site-packages (from dash==2.0.0) (2.0.0)\n",
            "Requirement already satisfied: dash-table==5.0.0 in ./anaconda3/lib/python3.7/site-packages (from dash==2.0.0) (5.0.0)\n",
            "Requirement already satisfied: brotli in ./anaconda3/lib/python3.7/site-packages (from flask-compress->dash==2.0.0) (1.0.9)\n",
            "Requirement already satisfied: Jinja2>=2.10.1 in ./anaconda3/lib/python3.7/site-packages (from Flask>=1.0.4->dash==2.0.0) (2.11.1)\n",
            "Requirement already satisfied: Werkzeug>=0.15 in ./anaconda3/lib/python3.7/site-packages (from Flask>=1.0.4->dash==2.0.0) (1.0.0)\n",
            "Requirement already satisfied: click>=5.1 in ./anaconda3/lib/python3.7/site-packages (from Flask>=1.0.4->dash==2.0.0) (7.0)\n",
            "Requirement already satisfied: itsdangerous>=0.24 in ./anaconda3/lib/python3.7/site-packages (from Flask>=1.0.4->dash==2.0.0) (1.1.0)\n",
            "Requirement already satisfied: tenacity>=6.2.0 in ./anaconda3/lib/python3.7/site-packages (from plotly>=5.0.0->dash==2.0.0) (8.0.1)\n",
            "Requirement already satisfied: six in ./anaconda3/lib/python3.7/site-packages (from plotly>=5.0.0->dash==2.0.0) (1.14.0)\n",
            "Requirement already satisfied: MarkupSafe>=0.23 in ./anaconda3/lib/python3.7/site-packages (from Jinja2>=2.10.1->Flask>=1.0.4->dash==2.0.0) (1.1.1)\n"
          ]
        }
      ]
    },
    {
      "cell_type": "code",
      "source": [
        "import warnings\n",
        "warnings.filterwarnings(\"ignore\")\n",
        "import dash\n",
        "import dash_core_components as dcc\n",
        "import dash_html_components as html\n",
        "import plotly.express as px\n",
        "import pandas as pd\n",
        "from datetime import datetime\n",
        "import plotly.graph_objects as go\n",
        "from dash.dependencies import Input, Output\n",
        "\n",
        "import plotly.tools as tls\n",
        "from plotly.subplots import make_subplots\n",
        "\n",
        "def parser(s):\n",
        "    return datetime.strptime(s, '%Y-%m-%d')\n",
        "\n",
        "app = dash.Dash()\n",
        "\n",
        "\n",
        "\n",
        "app.layout =  html.Div(style={'backgroundColor':'#070d30'}, children=[\n",
        "    html.Div([\n",
        "                 html.H1(\"TIME SERIES ANALYSIS OF DATA\", \n",
        "                          style={'textAlign': 'center', 'marginTop': '20px', 'marginBottom': '20px',\n",
        "                                 'color':'white'}, \n",
        "                          className=\"text-center\", id=\"heading\")\n",
        "                ],className=\"row\"),\n",
        "\n",
        "        \n",
        "\n",
        "         html.Div(children=[\n",
        "                            \n",
        "                  dcc.Upload(id='upload-data',\n",
        "                              children=html.Div(['Drag and Drop or ',html.A('Select Files')]),\n",
        "                              style={'width': '98%','height': '60px',\n",
        "                                     'lineHeight': '60px',\n",
        "                                     'borderWidth': '4px',\n",
        "                                     'borderStyle': 'dashed',\n",
        "                                     'borderRadius': '5px',\n",
        "                                     'textAlign': 'center',\n",
        "                                     'margin': '10px',\n",
        "                                     'color':'white'},\n",
        "                              multiple=False),          \n",
        "                           \n",
        "                  html.Hr(),\n",
        "                  html.H4(\"Outputs for ARIMA MODEL\", \n",
        "                          style={'textAlign': 'center', 'marginTop': '20px', 'marginBottom': '20px',\n",
        "                                 'color':'white'}, \n",
        "                          className=\"text-center\", id=\"heading1\"),\n",
        "                  \n",
        "\n",
        "                  dcc.Graph(id='line-graph', style={'display': 'inline-block', 'width':'50%'},\n",
        "                  figure=go.Figure(data = [go.Scatter(\n",
        "                                              x = df['Date'],\n",
        "                                              y = df['Close'],\n",
        "                                              mode = 'lines',\n",
        "                                              name = 'Observed',\n",
        "                                              line={'color': 'orange'}\n",
        "                                              ),\n",
        "                                   go.Scatter(\n",
        "                                              x = df['Date'],\n",
        "                                              y = df['Predicted_ARIMA'],\n",
        "                                              mode = 'lines',\n",
        "                                              name = 'Predicted',\n",
        "                                              line={'color': 'green'}),],\n",
        "                                    layout=go.Layout(title={'text':'Close prices Prediction for ARIMA model',\n",
        "                                                            'y':0.9,\n",
        "                                                            'x':0.5,\n",
        "                                                            'xanchor': 'center',\n",
        "                                                            'yanchor': 'top'},\n",
        "                                                     #plot_bgcolor='#070d30',\n",
        "                                                     xaxis_title=\"Date\", \n",
        "                                                     yaxis_title=\"Closing price in pounds (£)\")\n",
        "                                    ), className=\"Three columns\"),\n",
        "                            \n",
        "                  \n",
        "                  dcc.Textarea(id='run-model-echo', readOnly='readonly', placeholder='',\n",
        "                                value= str_msg,\n",
        "                                rows='40',\n",
        "                                style={'display': 'inline', 'width': '45%', 'height':'1000', 'background-color': '#F5F5F5', \n",
        "                                       'opacity': 0.5, 'fontSize': 10, 'draggable': False, 'text-align':'center'}, \n",
        "                               className=\"three columns\"),\n",
        "            \n",
        "\n",
        "                  html.Hr(),\n",
        "                  html.H4(\"Outputs for AUTO ARIMA MODEL\", \n",
        "                          style={'textAlign': 'center', 'marginTop': '20px', 'marginBottom': '20px',\n",
        "                                 'color':'white'}, \n",
        "                          className=\"text-center\", id=\"heading2\"),\n",
        "\n",
        "\n",
        "            dcc.Graph(id='line-graph1', style={'display': 'inline-block', 'width':'50%'},\n",
        "            figure=go.Figure(data = [go.Scatter(\n",
        "                                              x = df['Date'],\n",
        "                                              y = df['Close'],\n",
        "                                              mode = 'lines',\n",
        "                                              name = 'Observed',\n",
        "                                              line={'color': 'orange'}),\n",
        "                                   go.Scatter(\n",
        "                                              x = df['Date'],\n",
        "                                              y = df['Prediction'],\n",
        "                                              mode = 'lines',\n",
        "                                              name = 'Predicted',\n",
        "                                              line={'color': 'green'}),],\n",
        "                                    layout=go.Layout(title={'text':'Close prices Prediction for AUTO ARIMA model',\n",
        "                                                            'y':0.9,\n",
        "                                                            'x':0.5,\n",
        "                                                            'xanchor': 'center',\n",
        "                                                            'yanchor': 'top'},\n",
        "                                                     xaxis_title=\"Date\", \n",
        "                                                     yaxis_title=\"Closing price in pounds (£)\")\n",
        "                                    ), className=\"Three columns\"),\n",
        "                            \n",
        "\n",
        "          dcc.Textarea(id='run-model-echo1', readOnly='readonly', placeholder='',\n",
        "                                value= str_msg1,\n",
        "                                rows='40',\n",
        "                                style={'display': 'inline', 'width': '45%', 'height':'1000', 'background-color': '#F5F5F5', \n",
        "                                       'opacity': 0.5, 'fontSize': 10, 'draggable': False, 'text-align':'center'}, \n",
        "                               className=\"three columns\"),\n",
        "                                     \n",
        "         \n",
        "                  html.Hr(),\n",
        "                  html.H4(\"Outputs for SARIMA MODEL\", \n",
        "                          style={'textAlign': 'center', 'marginTop': '20px', 'marginBottom': '20px',\n",
        "                                 'color':'white'}, \n",
        "                          className=\"text-center\", id=\"heading3\"),\n",
        "\n",
        "\n",
        "          dcc.Graph(id='line-graph2', style={'display': 'inline-block','width':'50%'},\n",
        "          figure=go.Figure(data = [go.Scatter(\n",
        "                                              x = df['Date'],\n",
        "                                              y = df['Close'],\n",
        "                                              mode = 'lines',\n",
        "                                              name = 'Observed',\n",
        "                                              line={'color': 'orange'}),\n",
        "                                   go.Scatter(\n",
        "                                              x = df['Date'],\n",
        "                                              y = df['Predicted_SARIMA'],\n",
        "                                              mode = 'lines',\n",
        "                                              name = 'Predicted',\n",
        "                                              line={'color': 'green'}),],\n",
        "                                    layout=go.Layout(title={'text':'Close prices Prediction for SARIMA model',\n",
        "                                                            'y':0.9,\n",
        "                                                            'x':0.5,\n",
        "                                                            'xanchor': 'center',\n",
        "                                                            'yanchor': 'top'},\n",
        "                                                     xaxis_title=\"Date\", \n",
        "                                                     yaxis_title=\"Closing price in pounds (£)\")\n",
        "                                    ), className=\"six columns\"),\n",
        "                   \n",
        "          \n",
        "          dcc.Textarea(id='run-model-echo2', readOnly='readonly', placeholder='',\n",
        "                                value= str_msg2,\n",
        "                                rows='40',\n",
        "                                style={'display': 'inline', 'width': '45%', 'height':'1000', 'background-color': '#F5F5F5', \n",
        "                                       'opacity': 0.5, 'fontSize': 10, 'draggable': False, 'text-align':'center'}, \n",
        "                               className=\"three columns\"),\n",
        "        \n",
        "\n",
        "                  html.Hr(),\n",
        "                  html.H4(\"Outputs for FB Prophet MODEL\", \n",
        "                          style={'textAlign': 'center', 'marginTop': '20px', 'marginBottom': '20px',\n",
        "                                 'color':'white'}, \n",
        "                          className=\"text-center\", id=\"heading4\"),\n",
        "\n",
        "\n",
        "          dcc.Graph(id='line-graph3', style={'display': 'inline-block', 'width':'50%'},\n",
        "          figure=go.Figure(data = [go.Scatter(\n",
        "                                              x = df['Date'],\n",
        "                                              y = df['Close'],\n",
        "                                              mode = 'lines',\n",
        "                                              name = 'Observed',\n",
        "                                              line={'color': 'orange'}),\n",
        "                                   go.Scatter(\n",
        "                                              x = df_past['ds'],\n",
        "                                              y = df_past['yhat'],\n",
        "                                              mode = 'lines',\n",
        "                                              name = 'Predicted',\n",
        "                                              line={'color': 'green'}),\n",
        "                                                      \n",
        "\n",
        "                                   go.Scatter(\n",
        "                                              x = df_past['ds'],\n",
        "                                              y = df_past['yhat_lower'],\n",
        "                                              mode = 'lines',\n",
        "                                              fill = None,\n",
        "                                              name = 'Lower range',\n",
        "                                              line={'color': 'blue'}),\n",
        "                                   go.Scatter(\n",
        "                                              x = df_past['ds'],\n",
        "                                              y = df_past['yhat_upper'],\n",
        "                                              mode = 'lines',\n",
        "                                              fill = 'tonexty',\n",
        "                                              name = 'Upper range',\n",
        "                                              line={'color': 'blue'}),\n",
        "                    ],\n",
        "                                    layout=go.Layout(title={'text':'Close prices Prediction for FB Prophet model',\n",
        "                                                            'y':0.9,\n",
        "                                                            'x':0.5,\n",
        "                                                            'xanchor': 'center',\n",
        "                                                            'yanchor': 'top'},\n",
        "                                                     xaxis_title=\"Date\", \n",
        "                                                     yaxis_title=\"Closing price in pounds (£)\")\n",
        "                           ),\n",
        "                     className=\"six columns\"),\n",
        "\n",
        "\n",
        "            dcc.Graph(id='line-graph4', style={'display': 'inline-block', 'width':'50%'},\n",
        "          figure=go.Figure(data = [go.Scatter(\n",
        "                                              x = df['Date'],\n",
        "                                              y = df['Close'],\n",
        "                                              mode = 'lines',\n",
        "                                              name = 'Observed',\n",
        "                                              line={'color': 'orange'}),\n",
        "                                   go.Scatter(\n",
        "                                              x = df_future['ds'],\n",
        "                                              y = df_future['yhat'],\n",
        "                                              mode = 'lines',\n",
        "                                              name = 'Predicted',\n",
        "                                              line={'color': 'green'}),\n",
        "                                   go.Scatter(\n",
        "                                              x = df_future['ds'],\n",
        "                                              y = df_future['yhat_lower'],\n",
        "                                              mode = 'lines',\n",
        "                                              fill = None,\n",
        "                                              name = 'Lower range',\n",
        "                                              line={'color': 'blue'}),\n",
        "                                   go.Scatter(\n",
        "                                              x = df_future['ds'],\n",
        "                                              y = df_future['yhat_upper'],\n",
        "                                              mode = 'lines',\n",
        "                                              fill = 'tonexty',\n",
        "                                              name = 'Upper range',\n",
        "                                              line={'color': 'blue'}),],\n",
        "                                    layout=go.Layout(title={'text':'Future Close prices Prediction for FB Prophet model',\n",
        "                                                            'y':0.9,\n",
        "                                                            'x':0.5,\n",
        "                                                            'xanchor': 'center',\n",
        "                                                            'yanchor': 'top'},\n",
        "                                                     xaxis_title=\"Date\", \n",
        "                                                     yaxis_title=\"Closing price in pounds (£)\")\n",
        "                          ),\n",
        "                    className=\"six columns\"),\n",
        "            \n",
        "                  ],\n",
        "    className=\"six columns\") \n",
        "    ])\n",
        "\n",
        "\n",
        "\n",
        "app.run_server(debug=True, use_reloader=False)"
      ],
      "metadata": {
        "colab": {
          "base_uri": "https://localhost:8080/"
        },
        "id": "FXfWCaFS8ohj",
        "outputId": "c12f42b9-dfba-4bc4-aca3-76cd9c91bd90"
      },
      "execution_count": null,
      "outputs": [
        {
          "output_type": "stream",
          "name": "stdout",
          "text": [
            "Dash is running on http://127.0.0.1:8050/\n",
            "\n"
          ]
        },
        {
          "output_type": "stream",
          "name": "stderr",
          "text": [
            "INFO:__main__:Dash is running on http://127.0.0.1:8050/\n",
            "\n"
          ]
        },
        {
          "output_type": "stream",
          "name": "stdout",
          "text": [
            " * Serving Flask app \"__main__\" (lazy loading)\n",
            " * Environment: production\n",
            "   WARNING: This is a development server. Do not use it in a production deployment.\n",
            "   Use a production WSGI server instead.\n",
            " * Debug mode: on\n"
          ]
        }
      ]
    },
    {
      "cell_type": "code",
      "source": [
        ""
      ],
      "metadata": {
        "id": "mP9yaCLejjLa"
      },
      "execution_count": null,
      "outputs": []
    },
    {
      "cell_type": "code",
      "source": [
        ""
      ],
      "metadata": {
        "id": "m4h_jRQZXZjL"
      },
      "execution_count": null,
      "outputs": []
    },
    {
      "cell_type": "code",
      "source": [
        ""
      ],
      "metadata": {
        "id": "ceoYRq8_XZfs"
      },
      "execution_count": null,
      "outputs": []
    },
    {
      "cell_type": "code",
      "source": [
        ""
      ],
      "metadata": {
        "id": "u8bUJQoZXZcz"
      },
      "execution_count": null,
      "outputs": []
    },
    {
      "cell_type": "code",
      "source": [
        "! pip install pyngrok"
      ],
      "metadata": {
        "colab": {
          "base_uri": "https://localhost:8080/"
        },
        "id": "5UDfiUwuQhDk",
        "outputId": "344038c2-0b72-4b83-ff97-279927eedacd"
      },
      "execution_count": null,
      "outputs": [
        {
          "output_type": "stream",
          "name": "stdout",
          "text": [
            "Collecting pyngrok\n",
            "  Downloading pyngrok-5.1.0.tar.gz (745 kB)\n",
            "\u001b[K     |████████████████████████████████| 745 kB 1.3 MB/s \n",
            "\u001b[?25hRequirement already satisfied: PyYAML in ./anaconda3/lib/python3.7/site-packages (from pyngrok) (5.3)\n",
            "Building wheels for collected packages: pyngrok\n",
            "  Building wheel for pyngrok (setup.py) ... \u001b[?25l-\b \b\\\b \bdone\n",
            "\u001b[?25h  Created wheel for pyngrok: filename=pyngrok-5.1.0-py3-none-any.whl size=18991 sha256=1f1a521b2e3f5e9a090219d9aac6c85bd86b552ea03f4b9cebc954eb5d9d34e9\n",
            "  Stored in directory: /home/vamshi/.cache/pip/wheels/bf/e6/af/ccf6598ecefecd44104069371795cb9b3afbcd16987f6ccfb3\n",
            "Successfully built pyngrok\n",
            "Installing collected packages: pyngrok\n",
            "Successfully installed pyngrok-5.1.0\n"
          ]
        }
      ]
    },
    {
      "cell_type": "code",
      "source": [
        "! ngrok authtoken 27TEY85CerAWViwUlrnlfEI0KK2_5KQEpnFoGa6udBefZu81E\n"
      ],
      "metadata": {
        "colab": {
          "base_uri": "https://localhost:8080/"
        },
        "id": "P_XhwdvGQjXS",
        "outputId": "8ecd3abf-249f-4742-d851-5fc0fe80a3f9"
      },
      "execution_count": null,
      "outputs": [
        {
          "output_type": "stream",
          "name": "stdout",
          "text": [
            "Authtoken saved to configuration file: /home/vamshi/.ngrok2/ngrok.yml\r\n"
          ]
        }
      ]
    },
    {
      "cell_type": "code",
      "source": [
        "from pyngrok import ngrok\n",
        "\n",
        "# Open a HTTP tunnel on the default port 80\n",
        "public_url = ngrok.connect(port = '8050')"
      ],
      "metadata": {
        "colab": {
          "base_uri": "https://localhost:8080/"
        },
        "id": "Hg9HMIL-Qpk9",
        "outputId": "475e1bec-bd07-4769-b587-b57dd98a27b9"
      },
      "execution_count": null,
      "outputs": [
        {
          "output_type": "stream",
          "name": "stderr",
          "text": [
            "INFO:pyngrok.ngrok:Opening tunnel named: http-80-5442be1f-97ce-4309-90a9-e6fa4ede6f2b\n",
            "INFO:pyngrok.process.ngrok:t=2022-04-13T20:14:53+0100 lvl=info msg=\"no configuration paths supplied\"\n",
            "INFO:pyngrok.process.ngrok:t=2022-04-13T20:14:53+0100 lvl=info msg=\"using configuration at default config path\" path=/home/vamshi/.ngrok2/ngrok.yml\n",
            "INFO:pyngrok.process.ngrok:t=2022-04-13T20:14:53+0100 lvl=info msg=\"open config file\" path=/home/vamshi/.ngrok2/ngrok.yml err=nil\n",
            "INFO:pyngrok.process.ngrok:t=2022-04-13T20:14:53+0100 lvl=info msg=\"starting web service\" obj=web addr=127.0.0.1:4040\n",
            "INFO:pyngrok.process.ngrok:t=2022-04-13T20:14:54+0100 lvl=info msg=\"tunnel session started\" obj=tunnels.session\n",
            "INFO:pyngrok.process.ngrok:t=2022-04-13T20:14:54+0100 lvl=info msg=\"client session established\" obj=csess id=c31648765f48\n",
            "INFO:pyngrok.process.ngrok:t=2022-04-13T20:14:54+0100 lvl=info msg=start pg=/api/tunnels id=f6585edcf5bdd665\n",
            "INFO:pyngrok.process.ngrok:t=2022-04-13T20:14:54+0100 lvl=info msg=end pg=/api/tunnels id=f6585edcf5bdd665 status=200 dur=622.95µs\n",
            "INFO:pyngrok.process.ngrok:t=2022-04-13T20:14:54+0100 lvl=info msg=start pg=/api/tunnels id=9567ca3662e0debe\n",
            "INFO:pyngrok.process.ngrok:t=2022-04-13T20:14:54+0100 lvl=info msg=end pg=/api/tunnels id=9567ca3662e0debe status=200 dur=161.407µs\n",
            "INFO:pyngrok.process.ngrok:t=2022-04-13T20:14:54+0100 lvl=info msg=start pg=/api/tunnels id=5d77ce50576ccd86\n",
            "INFO:pyngrok.process.ngrok:t=2022-04-13T20:14:54+0100 lvl=info msg=\"started tunnel\" obj=tunnels name=\"http-80-5442be1f-97ce-4309-90a9-e6fa4ede6f2b (http)\" addr=http://localhost:80 url=http://634f-86-22-15-144.ngrok.io\n",
            "INFO:pyngrok.process.ngrok:t=2022-04-13T20:14:54+0100 lvl=info msg=\"started tunnel\" obj=tunnels name=http-80-5442be1f-97ce-4309-90a9-e6fa4ede6f2b addr=http://localhost:80 url=https://634f-86-22-15-144.ngrok.io\n",
            "INFO:pyngrok.process.ngrok:t=2022-04-13T20:14:54+0100 lvl=info msg=end pg=/api/tunnels id=5d77ce50576ccd86 status=201 dur=264.878004ms\n",
            "INFO:pyngrok.process.ngrok:t=2022-04-13T20:14:54+0100 lvl=info msg=start pg=\"/api/tunnels/http-80-5442be1f-97ce-4309-90a9-e6fa4ede6f2b (http)\" id=391348b9f054e156\n",
            "INFO:pyngrok.process.ngrok:t=2022-04-13T20:14:54+0100 lvl=info msg=end pg=\"/api/tunnels/http-80-5442be1f-97ce-4309-90a9-e6fa4ede6f2b (http)\" id=391348b9f054e156 status=200 dur=218.612µs\n"
          ]
        }
      ]
    },
    {
      "cell_type": "code",
      "source": [
        "public_url\n"
      ],
      "metadata": {
        "colab": {
          "base_uri": "https://localhost:8080/"
        },
        "id": "rBMkB6ovQs6M",
        "outputId": "6a960961-ac86-4f30-c3cc-793a4787afb7"
      },
      "execution_count": null,
      "outputs": [
        {
          "output_type": "execute_result",
          "data": {
            "text/plain": [
              "<NgrokTunnel: \"http://634f-86-22-15-144.ngrok.io\" -> \"http://localhost:80\">"
            ]
          },
          "metadata": {},
          "execution_count": 30
        }
      ]
    },
    {
      "cell_type": "code",
      "source": [
        "ngrok.kill()"
      ],
      "metadata": {
        "colab": {
          "base_uri": "https://localhost:8080/"
        },
        "id": "SoMwApirQwC3",
        "outputId": "f2f65748-bba2-4d59-e897-a58f09979e6c"
      },
      "execution_count": null,
      "outputs": [
        {
          "output_type": "stream",
          "name": "stderr",
          "text": [
            "INFO:pyngrok.process:Killing ngrok process: 15459\n"
          ]
        }
      ]
    },
    {
      "cell_type": "code",
      "source": [
        "# from pandas import to_datetime\n",
        "# from fbprophet import Prophet\n",
        "# from matplotlib import pyplot\n",
        "# from pandas import DataFrame\n",
        "\n",
        "# df1 = pd.read_csv('LLOYDS_Daily.csv')\n",
        "# df1.drop(df1.columns.difference(['Date','Close']), 1, inplace=True)\n",
        "# df1.columns = ['ds', 'y']\n",
        "# df1['ds']= to_datetime(df1['ds'])\n",
        "\n",
        "# # define the model\n",
        "# model = Prophet(daily_seasonality=True)\n",
        "# # fit the model\n",
        "# model.fit(df1)\n",
        "# # define the period for which we want a prediction\n",
        "# future = list()\n",
        "# for i in range(3,13):\n",
        "#     date = '2022-%02d' % i\n",
        "#     future.append([date])\n",
        "# future = DataFrame(future)\n",
        "# future.columns = ['ds']\n",
        "# future['ds']= to_datetime(future['ds'])\n",
        "# # use the model to make a forecast\n",
        "# forecast = model.predict(future)\n",
        "# # summarize the forecast\n",
        "# #print(forecast[['ds', 'yhat', 'yhat_lower', 'yhat_upper']])\n",
        "# # plot forecast\n",
        "# #model.plot(forecast)\n",
        "# #pyplot.show()\n",
        "\n",
        "# df1.set_index('ds', inplace=True)\n",
        "# forecast.set_index('ds', inplace=True)\n",
        "# viz_df = df1.join(forecast[['yhat', 'yhat_lower','yhat_upper']], how = 'outer')\n",
        "# viz_df.head\n",
        "# # df1.index = pd.to_datetime(df1.index)\n",
        "# # connect_date = df1.index[-2]\n",
        "# # mask = (forecast.index > connect_date)\n",
        "# # predict_df = forecast.loc[mask]\n",
        "# # viz_df = df1.join(predict_df[['yhat', 'yhat_lower','yhat_upper']], how = 'outer')\n",
        "# # viz_df['yhat_scaled']=np.exp(viz_df['yhat'])\n",
        "\n",
        "# # fig, ax1 = plt.subplots()\n",
        "# # ax1.plot(viz_df.y)\n",
        "# # ax1.plot(viz_df.yhat, color='black', linestyle=':')\n",
        "# # ax1.fill_between(viz_df.index, np.exp(viz_df['yhat_upper']), np.exp(viz_df['yhat_lower']), alpha=0.5, color='darkgray')\n",
        "# # ax1.set_ylabel('y')\n",
        "# # ax1.set_xlabel('Date')\n",
        "\n",
        "\n",
        "   \n"
      ],
      "metadata": {
        "colab": {
          "base_uri": "https://localhost:8080/"
        },
        "id": "9c-UcEW5p8VB",
        "outputId": "ff429d4f-bf62-43a7-f014-f7ba05b3e63c"
      },
      "execution_count": null,
      "outputs": [
        {
          "output_type": "execute_result",
          "data": {
            "text/plain": [
              "<bound method NDFrame.head of                     y       yhat  yhat_lower  yhat_upper\n",
              "ds                                                      \n",
              "2010-01-04  52.259998        NaN         NaN         NaN\n",
              "2010-01-05  54.029999        NaN         NaN         NaN\n",
              "2010-01-06  54.590000        NaN         NaN         NaN\n",
              "2010-01-07  56.930000        NaN         NaN         NaN\n",
              "2010-01-08  56.900002        NaN         NaN         NaN\n",
              "...               ...        ...         ...         ...\n",
              "2022-08-01        NaN  37.836275   29.418647   46.184347\n",
              "2022-09-01        NaN  36.511986   27.965351   45.331872\n",
              "2022-10-01        NaN  37.050779   26.942592   46.249000\n",
              "2022-11-01        NaN  38.061117   26.934182   47.889781\n",
              "2022-12-01        NaN  38.226626   26.845913   47.779852\n",
              "\n",
              "[3093 rows x 4 columns]>"
            ]
          },
          "metadata": {},
          "execution_count": 75
        }
      ]
    }
  ]
}